{
 "cells": [
  {
   "cell_type": "code",
   "execution_count": 23,
   "metadata": {},
   "outputs": [],
   "source": [
    "from csv import DictReader\n",
    "import osmnx as ox\n",
    "import networkx as nx\n",
    "import numpy as np\n",
    "from datetime import datetime"
   ]
  },
  {
   "cell_type": "code",
   "execution_count": 24,
   "metadata": {},
   "outputs": [
    {
     "name": "stdout",
     "output_type": "stream",
     "text": [
      "[{'adres': 'adres1', 'y': '23.141401', 'x': '53.142928'}, {'adres': 'adres2', 'y': '23.150168', 'x': '53.125021'}, {'adres': 'adres3', 'y': '23.094750', 'x': '53.157217'}, {'adres': 'adres4', 'y': '23.095895', 'x': '53.149964'}, {'adres': 'adres5', 'y': '23.198124', 'x': '53.106625'}]\n"
     ]
    }
   ],
   "source": [
    "file = open(\"punkty5.txt\", 'r')\n",
    "reader = DictReader(file)\n",
    "points = list()\n",
    "\n",
    "for dictionary in reader:\n",
    "    points.append(dictionary)\n",
    "print(points)"
   ]
  },
  {
   "cell_type": "code",
   "execution_count": 25,
   "metadata": {},
   "outputs": [],
   "source": [
    "ox.settings.log_console = True\n",
    "ox.settings.use_cache = True"
   ]
  },
  {
   "cell_type": "code",
   "execution_count": 26,
   "metadata": {},
   "outputs": [],
   "source": [
    "miejsce = \"Białystok, Polska\"\n",
    "tryb = \"drive\"\n",
    "kryterium = \"length\""
   ]
  },
  {
   "cell_type": "code",
   "execution_count": 27,
   "metadata": {},
   "outputs": [],
   "source": [
    "graph = ox.graph_from_place(miejsce, network_type=tryb )"
   ]
  },
  {
   "cell_type": "code",
   "execution_count": 28,
   "metadata": {},
   "outputs": [],
   "source": [
    "distance_matrix = np.empty((len(points),len(points)))"
   ]
  },
  {
   "cell_type": "code",
   "execution_count": 29,
   "metadata": {},
   "outputs": [
    {
     "data": {
      "text/plain": [
       "array([[    0.   ,  3378.35 ,  4226.012,  4238.483,  7355.548],\n",
       "       [ 2521.995,     0.   ,  6108.307,  6094.567,  4748.549],\n",
       "       [ 4324.323,  6606.536,     0.   ,  1129.315, 10583.734],\n",
       "       [ 4256.3  ,  6444.962,  1129.315,     0.   , 10422.16 ],\n",
       "       [ 6728.663,  4356.176, 10314.975, 10301.235,     0.   ]])"
      ]
     },
     "execution_count": 29,
     "metadata": {},
     "output_type": "execute_result"
    }
   ],
   "source": [
    "for i in range(len(points)):\n",
    "    origin_node = ox.nearest_nodes(graph, float(points[i]['y']), float(points[i]['x']))\n",
    "    for j in range(len(points)):\n",
    "        destination_node = ox.nearest_nodes(graph, float(points[j]['y']), float(points[j]['x']))\n",
    "        distance_matrix[i][j] = nx.shortest_path_length(graph, origin_node, destination_node, weight = kryterium)\n",
    "distance_matrix"
   ]
  },
  {
   "cell_type": "code",
   "execution_count": 30,
   "metadata": {},
   "outputs": [],
   "source": [
    "import gen_algorithms as ga"
   ]
  },
  {
   "cell_type": "code",
   "execution_count": 31,
   "metadata": {},
   "outputs": [],
   "source": [
    "#Hyperparameters:\n",
    "number_of_generations = 5\n",
    "population_size = 10\n",
    "number_of_parents = 6\n",
    "length = len(points)\n",
    "beginning = 1\n",
    "number_of_offspring = population_size - number_of_parents\n",
    "mutation_rate = 10 #%"
   ]
  },
  {
   "cell_type": "code",
   "execution_count": 32,
   "metadata": {},
   "outputs": [
    {
     "name": "stdout",
     "output_type": "stream",
     "text": [
      "Population: [[1, 2, 3, 0, 4], [1, 4, 3, 2, 0], [1, 0, 4, 3, 2], [1, 2, 0, 4, 3], [1, 4, 2, 0, 3], [1, 4, 3, 0, 2], [1, 3, 4, 2, 0], [1, 0, 2, 4, 3], [1, 3, 2, 4, 0], [1, 3, 2, 0, 4]]\n",
      "Parents: [[1, 2, 3, 0, 4], [1, 3, 2, 0, 4], [1, 4, 3, 2, 0], [1, 0, 4, 3, 2], [1, 3, 2, 4, 0], [1, 4, 2, 0, 3]]\n",
      "Children: [[1, 0, 4, 3, 2], [1, 2, 3, 0, 4], [1, 3, 2, 4, 0], [1, 3, 2, 0, 4]]\n",
      "Parents: [[1, 2, 3, 0, 4], [1, 2, 3, 0, 4], [1, 3, 2, 0, 4], [1, 3, 2, 0, 4], [1, 4, 3, 2, 0], [1, 0, 4, 3, 2]]\n",
      "Children: [[1, 4, 3, 2, 0], [1, 2, 3, 4, 0], [1, 3, 2, 0, 4], [1, 0, 4, 3, 2]]\n",
      "Parents: [[1, 2, 3, 0, 4], [1, 2, 3, 0, 4], [1, 3, 2, 0, 4], [1, 3, 2, 0, 4], [1, 3, 2, 0, 4], [1, 4, 3, 2, 0]]\n",
      "Children: [[1, 3, 2, 0, 4], [1, 2, 3, 0, 4], [1, 3, 2, 0, 4], [1, 2, 3, 0, 4]]\n",
      "Parents: [[1, 2, 3, 0, 4], [1, 2, 3, 0, 4], [1, 2, 3, 0, 4], [1, 2, 3, 0, 4], [1, 3, 2, 0, 4], [1, 3, 2, 0, 4]]\n",
      "Children: [[1, 3, 2, 0, 4], [1, 2, 3, 0, 4], [1, 2, 3, 0, 4], [1, 3, 2, 0, 4]]\n",
      "Parents: [[1, 2, 3, 0, 4], [1, 2, 3, 0, 4], [1, 2, 3, 0, 4], [1, 2, 3, 0, 4], [1, 2, 3, 0, 4], [1, 3, 2, 0, 4]]\n",
      "Children: [[1, 2, 3, 0, 4], [1, 2, 3, 0, 4], [1, 2, 3, 0, 4], [1, 2, 3, 0, 4]]\n"
     ]
    }
   ],
   "source": [
    "#Populacja początkowa:\n",
    "start_time = datetime.now()\n",
    "population = []\n",
    "i=0\n",
    "while i < population_size:\n",
    "    ind = ga.create_individual(beginning, length)\n",
    "    if ind not in population:\n",
    "        population.append(ind)\n",
    "        i+=1\n",
    "max_individuals=[]\n",
    "print(f'Population: {population}')\n",
    "\n",
    "for generation in range(number_of_generations):\n",
    "\n",
    "    fitness_list=[]\n",
    "    for indiv in population:\n",
    "        fitness_list.append(ga.calculate_fitness(indiv, distance_matrix, length))\n",
    "    max_individual = max(fitness_list)\n",
    "    max_individuals.append(max_individual)\n",
    "    print(f'fitness: {fitness_list}')\n",
    "    #print(f'Generation: {generation}, max fitness: {max_individual}')\n",
    "\n",
    "    parents = ga.select_parents(population, fitness_list, number_of_parents)\n",
    "    print(f'Parents: {parents}')\n",
    "\n",
    "    children = ga.crossover(parents, number_of_offspring, length)\n",
    "    print(f'Children: {children}')\n",
    "\n",
    "    for child in children:\n",
    "        ga.mutation(child, mutation_rate)\n",
    "    \n",
    "    population = parents + children\n",
    "end_time = datetime.now()"
   ]
  },
  {
   "cell_type": "code",
   "execution_count": 33,
   "metadata": {},
   "outputs": [
    {
     "name": "stdout",
     "output_type": "stream",
     "text": [
      "Duration: 0:00:00.001005 \n",
      "\n",
      "\n",
      "first generation: -23205.645999999997, last_generation: -23205.645999999997\n",
      "difference: 0.0, improvement: -0.0 %\n"
     ]
    }
   ],
   "source": [
    "duration = end_time - start_time\n",
    "print(f'Duration: {duration} \\n\\n')\n",
    "difference = max_individuals[0] - max_individuals[-1]\n",
    "improvement = (difference/max_individuals[0])*100\n",
    "print(f'first generation: {max_individuals[0]}, last_generation: {max_individuals[-1]}')\n",
    "print(f'difference: {difference}, improvement: {improvement} %')\n",
    "\n",
    "best = max(fitness_list)\n",
    "best_route_index = fitness_list.index(best)\n",
    "best_route = population[best_route_index]\n",
    "f=open(\"Solution.txt\", 'w')\n",
    "f.write(f'Duration: {duration}\\n')\n",
    "f.write(f'first generation: {-max_individuals[0]}, \\nlast_generation: {-max_individuals[-1]}\\n')\n",
    "f.write(f'difference: {-difference}, \\nimprovement: {improvement} %\\n')\n",
    "f.write(f'best route: {best_route}\\n\\n')\n",
    "f.write(f'{duration}')\n",
    "f.write('\\n')\n",
    "f.write(f'{-max_individuals[0]}')\n",
    "f.write('\\n')\n",
    "f.write(f'{-max_individuals[-1]}')\n",
    "f.write('\\n')\n",
    "f.write(f'{improvement}')\n",
    "f.close()"
   ]
  }
 ],
 "metadata": {
  "kernelspec": {
   "display_name": "Python 3.10.5",
   "language": "python",
   "name": "python3"
  },
  "language_info": {
   "codemirror_mode": {
    "name": "ipython",
    "version": 3
   },
   "file_extension": ".py",
   "mimetype": "text/x-python",
   "name": "python",
   "nbconvert_exporter": "python",
   "pygments_lexer": "ipython3",
   "version": "3.10.5"
  },
  "orig_nbformat": 4,
  "vscode": {
   "interpreter": {
    "hash": "6e241a4122c6013b50afb90dee215a4297a7ef6625d6c41debc42ecc63082c9e"
   }
  }
 },
 "nbformat": 4,
 "nbformat_minor": 2
}
