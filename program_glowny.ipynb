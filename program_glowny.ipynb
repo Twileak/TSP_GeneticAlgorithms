{
 "cells": [
  {
   "cell_type": "code",
   "execution_count": 12,
   "metadata": {},
   "outputs": [],
   "source": [
    "# Autor: Dawid Żamojda\n",
    "# Program powstał na Wydziale Informatyki Politechniki Białostockiej\n",
    "from csv import DictReader\n",
    "import osmnx as ox\n",
    "import networkx as nx\n",
    "import numpy as np\n",
    "from datetime import datetime\n",
    "# W celu poprawnego działania programu należy zainstalować odpowiednie biblioteki\n",
    "# Folder z programem zawiera plik requirements.txt z zapisnymi bibliotekami\n",
    "# W celu zainstalowania potrzebnych bibliotek należy użyc komendy 'pip install -r requirements.txt' "
   ]
  },
  {
   "cell_type": "code",
   "execution_count": 13,
   "metadata": {},
   "outputs": [
    {
     "name": "stdout",
     "output_type": "stream",
     "text": [
      "[{'adres': 'adres1', 'y': '23.141401', 'x': '53.142928'}, {'adres': 'adres2', 'y': '23.150168', 'x': '53.125021'}, {'adres': 'adres3', 'y': '23.094750', 'x': '53.157217'}, {'adres': 'adres4', 'y': '23.095895', 'x': '53.149964'}, {'adres': 'adres5', 'y': '23.198124', 'x': '53.106625'}, {'adres': 'adres6', 'y': '23.175494', 'x': '53.125748'}, {'adres': 'adres7', 'y': '23.147174', 'x': '53.117526'}, {'adres': 'adres8', 'y': '23.135313', 'x': '53.13227'}, {'adres': 'adres9', 'y': '23.165609', 'x': '53.131947'}, {'adres': 'adres10', 'y': '23.119271', 'x': '53.135303'}]\n"
     ]
    }
   ],
   "source": [
    "file = open(\"punkty10.txt\", 'r')\n",
    "reader = DictReader(file)\n",
    "points = list()\n",
    "\n",
    "for dictionary in reader:\n",
    "    points.append(dictionary)\n",
    "print(points)"
   ]
  },
  {
   "cell_type": "code",
   "execution_count": 14,
   "metadata": {},
   "outputs": [],
   "source": [
    "ox.settings.log_console = True\n",
    "ox.settings.use_cache = True"
   ]
  },
  {
   "cell_type": "code",
   "execution_count": 15,
   "metadata": {},
   "outputs": [],
   "source": [
    "miejsce = \"Białystok, Polska\"\n",
    "tryb = \"drive\"\n",
    "kryterium = \"length\""
   ]
  },
  {
   "cell_type": "code",
   "execution_count": 16,
   "metadata": {},
   "outputs": [],
   "source": [
    "graph = ox.graph_from_place(miejsce, network_type=tryb )"
   ]
  },
  {
   "cell_type": "code",
   "execution_count": 17,
   "metadata": {},
   "outputs": [],
   "source": [
    "distance_matrix = np.empty((len(points),len(points)))"
   ]
  },
  {
   "cell_type": "code",
   "execution_count": 18,
   "metadata": {},
   "outputs": [],
   "source": [
    "for i in range(len(points)):\n",
    "    origin_node = ox.nearest_nodes(graph, float(points[i]['y']), float(points[i]['x']))\n",
    "    for j in range(len(points)):\n",
    "        destination_node = ox.nearest_nodes(graph, float(points[j]['y']), float(points[j]['x']))\n",
    "        distance_matrix[i][j] = nx.shortest_path_length(graph, origin_node, destination_node, weight = kryterium)\n",
    "#distance_matrix"
   ]
  },
  {
   "cell_type": "code",
   "execution_count": 19,
   "metadata": {},
   "outputs": [],
   "source": [
    "import gen_algorithms as ga"
   ]
  },
  {
   "cell_type": "code",
   "execution_count": 20,
   "metadata": {},
   "outputs": [],
   "source": [
    "#Hyperparameters:\n",
    "number_of_generations = 10\n",
    "population_size = 100\n",
    "number_of_parents = 60\n",
    "length = len(points)\n",
    "beginning = 1\n",
    "number_of_offspring = population_size - number_of_parents\n",
    "mutation_rate = 10 #%"
   ]
  },
  {
   "cell_type": "code",
   "execution_count": 21,
   "metadata": {},
   "outputs": [],
   "source": [
    "#Populacja początkowa:\n",
    "start_time = datetime.now()\n",
    "population = []\n",
    "i=0\n",
    "while i < population_size:\n",
    "    ind = ga.create_individual(beginning, length)\n",
    "    if ind not in population:\n",
    "        population.append(ind)\n",
    "        i+=1\n",
    "best_individuals=[]\n",
    "\n",
    "#Kolejne iteracje algorytmu genetycznego\n",
    "for generation in range(number_of_generations):\n",
    "\n",
    "    fitness_list=[]\n",
    "    for indiv in population:\n",
    "        fitness_list.append(ga.calculate_fitness(indiv, distance_matrix, length))\n",
    "    best_individual = min(fitness_list)\n",
    "    best_individuals.append(best_individual)\n",
    "\n",
    "    parents = ga.select_parents(population, fitness_list, number_of_parents)\n",
    "\n",
    "    children = ga.crossover(parents, number_of_offspring, length)\n",
    "\n",
    "    for child in children:\n",
    "        ga.mutation(child, mutation_rate)\n",
    "    \n",
    "    population = parents + children\n",
    "end_time = datetime.now()"
   ]
  },
  {
   "cell_type": "code",
   "execution_count": 22,
   "metadata": {},
   "outputs": [
    {
     "name": "stdout",
     "output_type": "stream",
     "text": [
      "Duration: 0:00:00.005999 \n",
      "\n",
      "\n",
      "first generation: 30432.968999999997, last_generation: 28136.593999999997\n",
      "difference: 2296.375, improvement: 7.545681790035013 %\n"
     ]
    }
   ],
   "source": [
    "# Wypisywanie wyników do pliku wyjściowego\n",
    "duration = end_time - start_time\n",
    "print(f'Duration: {duration} \\n\\n')\n",
    "difference = best_individuals[0] - best_individuals[-1]\n",
    "improvement = (difference/best_individuals[0])*100\n",
    "print(f'first generation: {best_individuals[0]}, last_generation: {best_individuals[-1]}')\n",
    "print(f'difference: {difference}, improvement: {improvement} %')\n",
    "\n",
    "best = min(fitness_list)\n",
    "best_route_index = fitness_list.index(best)\n",
    "best_route = population[best_route_index]\n",
    "f=open(\"Solution.txt\", 'w')\n",
    "f.write(f'Duration: {duration}\\n')\n",
    "f.write(f'first generation: {best_individuals[0]}, \\nlast_generation: {best_individuals[-1]}\\n')\n",
    "f.write(f'difference: {difference}, \\nimprovement: {improvement} %\\n')\n",
    "f.write(f'best route: {best_route}\\n\\n')"
   ]
  }
 ],
 "metadata": {
  "kernelspec": {
   "display_name": "Python 3.10.5",
   "language": "python",
   "name": "python3"
  },
  "language_info": {
   "codemirror_mode": {
    "name": "ipython",
    "version": 3
   },
   "file_extension": ".py",
   "mimetype": "text/x-python",
   "name": "python",
   "nbconvert_exporter": "python",
   "pygments_lexer": "ipython3",
   "version": "3.10.5"
  },
  "orig_nbformat": 4,
  "vscode": {
   "interpreter": {
    "hash": "6e241a4122c6013b50afb90dee215a4297a7ef6625d6c41debc42ecc63082c9e"
   }
  }
 },
 "nbformat": 4,
 "nbformat_minor": 2
}
